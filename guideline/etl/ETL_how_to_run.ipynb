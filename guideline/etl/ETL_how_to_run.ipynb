{
 "cells": [
  {
   "cell_type": "markdown",
   "metadata": {},
   "source": [
    "# ETL how to run?\n",
    "> At here we will talk about how to run ETL. There is 2 steps to run ETL.\n",
    "\n",
    "1. prepare config\n",
    "2. put config to ETLPipeline"
   ]
  },
  {
   "cell_type": "markdown",
   "metadata": {},
   "source": [
    "## 1. prepare config"
   ]
  },
  {
   "cell_type": "code",
   "execution_count": 1,
   "metadata": {},
   "outputs": [],
   "source": [
    "from omegaconf import OmegaConf\n",
    "\n",
    "# E = Extract, T = Transform, L = Load\n",
    "E_path = \"/data/private/dataverse/dataverse/config/etl/sample/data_ingestion___sampling.yaml\"\n",
    "T_path = \"/data/private/dataverse/dataverse/config/etl/sample/data_preprocess___dedup.yaml\"\n",
    "L_path = \"/data/private/dataverse/dataverse/config/etl/sample/data_load___hf_obj.yaml\"\n",
    "\n",
    "E_config = OmegaConf.load(E_path)\n",
    "T_config = OmegaConf.load(T_path)\n",
    "L_config = OmegaConf.load(L_path)\n"
   ]
  },
  {
   "cell_type": "markdown",
   "metadata": {},
   "source": [
    "### Extract Config\n",
    "\n",
    "- load huggingface dataset `RedPajama-Data-1T-Sample`\n",
    "- Convert to huggingface dataset to UFL format\n",
    "    - `ufl format` is the following structure `List[Dict]`\n",
    "- sample 1% of total data to reduce the size of dataset\n",
    "- save to parquet `./sample/pajama_sample_ufl.parquet`"
   ]
  },
  {
   "cell_type": "code",
   "execution_count": 2,
   "metadata": {},
   "outputs": [
    {
     "name": "stdout",
     "output_type": "stream",
     "text": [
      "spark:\n",
      "  appname: dataverse_etl_sample\n",
      "  driver:\n",
      "    memory: 4g\n",
      "etl:\n",
      "- name: data_ingestion___red_pajama___hf2ufl\n",
      "  args:\n",
      "    name_or_path: togethercomputer/RedPajama-Data-1T-Sample\n",
      "    repartition: 3\n",
      "- name: utils___sampling___random\n",
      "  args:\n",
      "    sample_n_or_frac: 0.01\n",
      "- name: data_load___parquet___ufl2parquet\n",
      "  args:\n",
      "    save_path: ./sample/pajama_sample_ufl.parquet\n",
      "\n"
     ]
    }
   ],
   "source": [
    "print(OmegaConf.to_yaml(E_config))"
   ]
  },
  {
   "cell_type": "markdown",
   "metadata": {},
   "source": [
    "### Transform Config\n",
    "\n",
    "- load parquet `./sample/pajama_sample_ufl.parquet`\n",
    "- deduplicate by `text` column, 15-gram minhash jaccard similarity\n",
    "- save to parquet `./sample/pajama_preprocess_ufl.parquet`"
   ]
  },
  {
   "cell_type": "code",
   "execution_count": 3,
   "metadata": {},
   "outputs": [
    {
     "name": "stdout",
     "output_type": "stream",
     "text": [
      "spark:\n",
      "  appname: dataverse_etl_sample\n",
      "  driver:\n",
      "    memory: 16g\n",
      "etl:\n",
      "- name: data_ingestion___ufl___parquet2ufl\n",
      "  args:\n",
      "    input_paths:\n",
      "    - ./sample/pajama_sample_ufl.parquet\n",
      "- name: deduplication___polyglot___minhash\n",
      "- name: data_load___parquet___ufl2parquet\n",
      "  args:\n",
      "    save_path: ./sample/pajama_preprocess_ufl.parquet\n",
      "\n"
     ]
    }
   ],
   "source": [
    "print(OmegaConf.to_yaml(T_config))"
   ]
  },
  {
   "cell_type": "markdown",
   "metadata": {},
   "source": [
    "### Load Config\n",
    "\n",
    "- load parquet `./sample/pajama_preprocess_ufl.parquet`\n",
    "- convert to huggingface dataset and return the object"
   ]
  },
  {
   "cell_type": "code",
   "execution_count": 4,
   "metadata": {},
   "outputs": [
    {
     "name": "stdout",
     "output_type": "stream",
     "text": [
      "spark:\n",
      "  appname: dataverse_etl_sample\n",
      "  driver:\n",
      "    memory: 16g\n",
      "etl:\n",
      "- name: data_ingestion___ufl___parquet2ufl\n",
      "  args:\n",
      "    input_paths:\n",
      "    - ./sample/pajama_preprocess_ufl.parquet\n",
      "- name: data_load___huggingface___ufl2hf_obj\n",
      "\n"
     ]
    }
   ],
   "source": [
    "print(OmegaConf.to_yaml(L_config))"
   ]
  },
  {
   "cell_type": "markdown",
   "metadata": {},
   "source": [
    "## 2. put config to ETLPipeline"
   ]
  },
  {
   "cell_type": "code",
   "execution_count": 5,
   "metadata": {},
   "outputs": [],
   "source": [
    "from dataverse.etl import ETLPipeline\n",
    "\n",
    "etl_pipeline = ETLPipeline()"
   ]
  },
  {
   "cell_type": "code",
   "execution_count": 6,
   "metadata": {},
   "outputs": [
    {
     "name": "stderr",
     "output_type": "stream",
     "text": [
      "Setting default log level to \"WARN\".\n",
      "To adjust logging level use sc.setLogLevel(newLevel). For SparkR, use setLogLevel(newLevel).\n",
      "23/09/22 01:19:21 WARN NativeCodeLoader: Unable to load native-hadoop library for your platform... using builtin-java classes where applicable\n",
      "Found cached dataset red_pajama-data-1_t-sample (/root/.cache/huggingface/datasets/togethercomputer___red_pajama-data-1_t-sample/plain_text/1.0.0/6ea3bc8ec2e84ec6d2df1930942e9028ace8c5b9d9143823cf911c50bbd92039)\n"
     ]
    },
    {
     "data": {
      "application/vnd.jupyter.widget-view+json": {
       "model_id": "128941298978441c8cbbbeeea9dd5f94",
       "version_major": 2,
       "version_minor": 0
      },
      "text/plain": [
       "  0%|          | 0/1 [00:00<?, ?it/s]"
      ]
     },
     "metadata": {},
     "output_type": "display_data"
    },
    {
     "name": "stdout",
     "output_type": "stream",
     "text": [
      "Dataset already exists at /root/.cache/dataverse/dataset/huggingface_0213b3219ff7d503.parquet\n"
     ]
    },
    {
     "name": "stderr",
     "output_type": "stream",
     "text": [
      "                                                                                \r"
     ]
    },
    {
     "name": "stdout",
     "output_type": "stream",
     "text": [
      "Downloading and preparing dataset spark/-477983029 to /root/.cache/huggingface/datasets/spark/-477983029/0.0.0...\n"
     ]
    },
    {
     "name": "stderr",
     "output_type": "stream",
     "text": [
      "                                                                                \r"
     ]
    },
    {
     "name": "stdout",
     "output_type": "stream",
     "text": [
      "Dataset spark downloaded and prepared to /root/.cache/huggingface/datasets/spark/-477983029/0.0.0. Subsequent calls will reuse this data.\n"
     ]
    }
   ],
   "source": [
    "# raw -> ufl\n",
    "etl_pipeline.run(E_config)\n",
    "\n",
    "# ufl -> dedup -> ufl\n",
    "etl_pipeline.run(T_config)\n",
    "\n",
    "# ufl -> hf_obj\n",
    "dataset = etl_pipeline.run(L_config)"
   ]
  },
  {
   "cell_type": "code",
   "execution_count": 7,
   "metadata": {},
   "outputs": [
    {
     "data": {
      "text/plain": [
       "Dataset({\n",
       "    features: ['id', 'meta', 'name', 'text'],\n",
       "    num_rows: 9190\n",
       "})"
      ]
     },
     "execution_count": 7,
     "metadata": {},
     "output_type": "execute_result"
    }
   ],
   "source": [
    "dataset"
   ]
  },
  {
   "cell_type": "code",
   "execution_count": 9,
   "metadata": {},
   "outputs": [
    {
     "data": {
      "text/plain": [
       "{'id': 'ba38ac0a589a11ee8ddfd652e8cce297',\n",
       " 'meta': '{\"pred_label\": \"__label__cc\", \"pred_label_prob\": 0.5543975830078125, \"wiki_prob\": 0.4456024169921875, \"source\": \"cc/2020-05/en_middle_0033.json.gz/line427354\"}',\n",
       " 'name': 'red_pajama',\n",
       " 'text': 'Mechanical drawings of lens mounts: are they “open source”?\\nDozens of 3rd party companies manufacture lens adapters from one lens mount to another. Are lens mounts mechanical specifications \"open source\" or did these companies measure[*] lens mounts dimensions themselves and manufacture their adapters from there? As a side question, if lens mounts specs are not opened, is there any licensing issue in what I would say is \"copying\" the mounts for commercial purpose?\\n[*] measure: unlikely with a vernier caliper and such, but rather with an appropriate 3D scanner, a coordinate measurement machine or a contactless depth probe, etc ...\\nlens-mount lens-adapter\\ncalocedruscalocedrus\\nAre you asking whether the drawings can be shared, or whether the mount specification themselves are open and can be freely implemented? – Please Read Profile Apr 5 \\'17 at 3:01\\nGood remark, though I thought it was understood that a lens mount\\'s mechanical drawing meant the mount specification itself. So making the distinction, it\\'s the second part of your question I\\'d like to know about. As for your first part, I would assume that if drawings can be shared (legally), they are likely to have been opened at some point. – calocedrus Apr 5 \\'17 at 3:17\\nAs I understand it, these are completely distinct. A mount design could be an invention protected by patent, while a drawing is protected by copyright — it could be proprietary, or open source, or released to the public domain, without impact on other restrictions on implemention. – Please Read Profile Apr 5 \\'17 at 3:23\\nWell, not exactly: there\\'s design patents (different from utility patents), often made of one or more drawing and little description. So a drawing may not be copyrighted at all, it may be patented or not, it may also be none of them (industrial trade secret). Also, in the case of a lens mount, if a patent was applied for it, it would be very unlikely that the mechanical drawing be not included as the main part of the lens mount patent itself. – calocedrus Apr 5 \\'17 at 5:26\\nBut design patents only cover the ornamental design, not the mechanical specifications you are asking about here. – Please Read Profile Apr 5 \\'17 at 9:48\\nBy \"open source\", which is mainly a term used in software development, I believe you\\'re referring to open standards, which are systems (like a camera mount) that aren\\'t specific to a certain corporation or company, but are allowed to be legally used by multiple corporations within an industry.\\nCamera mounts don\\'t have to be open standards for third-parties (like Sigma, for example) to make lenses for that mount, as long as they aren\\'t patented, which from what I read, it appears that all modern camera mounts aren\\'t. Companies can license their camera mounts to third-party manufacturers, or third-parties can reverse engineer lenses.\\nFrom what I read, this is what I gathered on the major camera mounts:\\nThe Nikon F-mount and Canon\\'s EF mount are both proprietary, though third-parties are allowed to reverse engineer their lenses for compatibility legally. Canon discourages the use of third-party lenses and doesn\\'t appear to have ever licensed their mount to any third-party. Nikon apparently has licensed their lens technology to Tamron and Tokina; Nikon a couple years ago sued Sigma for patent infringement, though it wasn\\'t over lens mounts.\\nThe Pentax K-Mount was originally an open standard (see here), and has been used on many cameras from different companies. Today there continues to be no restriction on third-parties manufacturing lenses for the K-mount, but I believe Pentax is the only company still making cameras for the mount\\nThe Micro Four Thirds system, which today is primarily used by Olympus and Panasonic, is an open standard, and is allowed to be used by any manufacturer\\nAlso see this similar question that may help: Why don\\'t Canon and Nikon lock out third-party lens makers?\\nWClarkeWClarke\\nOpen source (or more precisely open source model) is not only used for software, in fact the wikipedia link you provide explains otherwise (I knew it was used in hardware, didn\\'t know about medicine nor food)! Your writing is clear and likely the answer to my question (unless someone else chime in to build up on it). – calocedrus Apr 5 \\'17 at 5:35\\nTo complete your answer, there\\'s also the example of the C-mount lens mount, used from old ciné lenses to a large majority of current industrial and scientific cameras. Its thread is defined in an ANSI standard (B1.1), and for the cameras just mentioned, its flange focal distance is clearly defined. So this would be an example of an open standard (not open source as there\\'s likely nothing to be improved upon). – calocedrus Apr 5 \\'17 at 5:44\\nthinking more about my question and the clarification you\\'ve made, open source doesn\\'t make much sens for a lens mount: more often than not, the multitude of lens mounts is far from being an advantage; an open source mount would imply the likelihood that the mount evolves and be modified by the collaborative effort of the open source model and give rise to a multitude of slightly different mounts, each one adapted to a particular need of the collaborator. So open standard is a much better notion here, the open source model is not adapted. – calocedrus Apr 5 \\'17 at 5:51\\nDespite propaganda, Four Thirds is not really an open standard. It may only be used under license and with an NDA. The only difference is that they explicitly encourage licensees. As I understand it, Micro Fourth Thirds is even more restrictive. – Please Read Profile Apr 5 \\'17 at 9:45\\nExactly correct: unless the mount mech is patented, it\\'s legal to reverse-engineer the mating parts. (IANAL, etc, and you should see the shenanigans going on with \"copyright\" vs. patents these days ) – Carl Witthoft Apr 5 \\'17 at 12:05\\nThe Nikon F mount, at least, was protected by patents. See this question, which has some details on the patent for the electrical interface.\\nBut, the awesome thing about the patent system is that it was established specifically to encourage sharing and interoperability, instead of hoarding inventions as trade secrets. Patents give an exclusive-use right for a limited time — and for the F mount, that time has expired. And, the drawings and text in a patent grant are generally not protected by copyright.\\nSince public domain is \"open source for most practical purposes — sort of\", the answer to your question for F mount is also... sort of.\\nI can\\'t find a corresponding patent for Canon, although it\\'s worth noting that they patent lens designs regularly.\\nOf course, even when original patents are expired, there could be refinements which are further patented.\\nCareful -- public domain may be (sort of) open source, but most open source is not public domain. – Caleb Apr 5 \\'17 at 12:26\\n@Caleb Yes. See the link. – Please Read Profile Apr 5 \\'17 at 14:28\\nNot the answer you\\'re looking for? Browse other questions tagged lens-mount lens-adapter or ask your own question.\\nWhat are the electrical contacts in a Nikon F-mount?\\nWhy don\\'t Canon and Nikon lock out third-party lens makers?\\nWhere can I find a mechanical drawing of the Canon EF Mount?\\nFast telephoto primes for APS-C mounts — would they make any sense?\\nAre fully automatic DSLR lens changers available? What are suitable alternatives?\\nWhy do camera manufacturers use different lens mounts?\\nWhich adapted manual lens mounts do not collide with the mirror on Canon 5D/6D bodies?\\nIs there a comprehensive list of available (possible) adapters between different lens mounts?\\nAre there any official specifications regarding the torque for camera mounts?\\nDo lens adapters with mechanical aperture control really work well?\\nDifference between Minolta MC and MD mounts and can they be used on AF camera?\\nCamera / lens mount mechanical resistance: case of broken or damaged mount?\\nWhere can I find lens mounts for small 2 mm diameter lenses?'}"
      ]
     },
     "execution_count": 9,
     "metadata": {},
     "output_type": "execute_result"
    }
   ],
   "source": [
    "dataset[777]"
   ]
  }
 ],
 "metadata": {
  "kernelspec": {
   "display_name": "llm",
   "language": "python",
   "name": "python3"
  },
  "language_info": {
   "codemirror_mode": {
    "name": "ipython",
    "version": 3
   },
   "file_extension": ".py",
   "mimetype": "text/x-python",
   "name": "python",
   "nbconvert_exporter": "python",
   "pygments_lexer": "ipython3",
   "version": "3.10.11"
  },
  "orig_nbformat": 4
 },
 "nbformat": 4,
 "nbformat_minor": 2
}
