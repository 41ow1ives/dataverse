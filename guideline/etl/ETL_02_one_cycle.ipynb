{
 "cells": [
  {
   "cell_type": "markdown",
   "metadata": {},
   "source": [
    "# ETL one cycle\n",
    "> Normally ETL is processed by 3 steps, E, T, L :) but we could do it by one cycle, ETL.\n",
    "\n",
    "We are going to use the 3 configs from `ETL_how_to_run.ipynb` and merge it to one config file."
   ]
  },
  {
   "cell_type": "markdown",
   "metadata": {},
   "source": [
    "## 1. prepare config"
   ]
  },
  {
   "cell_type": "code",
   "execution_count": 1,
   "metadata": {},
   "outputs": [],
   "source": [
    "from omegaconf import OmegaConf\n",
    "\n",
    "# E = Extract, T = Transform, L = Load\n",
    "ETL_path = \"/data/private/dataverse/dataverse/config/etl/sample/ETL___one_cycle.yaml\"\n",
    "\n",
    "ETL_config = OmegaConf.load(ETL_path)"
   ]
  },
  {
   "cell_type": "markdown",
   "metadata": {},
   "source": [
    "### ETL Config\n",
    "> One cycle from raw to huggingface dataset\n",
    "\n",
    "- load huggingface dataset `RedPajama-Data-1T-Sample`\n",
    "- Convert huggingface dataset to UFL format\n",
    "    - `ufl format` is the following structure `List[Dict]`\n",
    "- sample 1% of total data to reduce the size of dataset\n",
    "- deduplicate by `text` column, 15-gram minhash jaccard similarity\n",
    "- convert to huggingface dataset and return the object"
   ]
  },
  {
   "cell_type": "code",
   "execution_count": 2,
   "metadata": {},
   "outputs": [
    {
     "name": "stdout",
     "output_type": "stream",
     "text": [
      "spark:\n",
      "  appname: dataverse_etl_sample\n",
      "  driver:\n",
      "    memory: 16g\n",
      "etl:\n",
      "- name: data_ingestion___red_pajama___hf2ufl\n",
      "- name: utils___sampling___random\n",
      "  args:\n",
      "    sample_n_or_frac: 0.01\n",
      "- name: deduplication___polyglot___minhash\n",
      "- name: data_load___huggingface___ufl2hf_obj\n",
      "\n"
     ]
    }
   ],
   "source": [
    "print(OmegaConf.to_yaml(ETL_config))"
   ]
  },
  {
   "cell_type": "markdown",
   "metadata": {},
   "source": [
    "## 2. put config to ETLPipeline"
   ]
  },
  {
   "cell_type": "code",
   "execution_count": 3,
   "metadata": {},
   "outputs": [],
   "source": [
    "from dataverse.etl import ETLPipeline\n",
    "\n",
    "etl_pipeline = ETLPipeline()"
   ]
  },
  {
   "cell_type": "code",
   "execution_count": 4,
   "metadata": {},
   "outputs": [
    {
     "name": "stderr",
     "output_type": "stream",
     "text": [
      "Setting default log level to \"WARN\".\n",
      "To adjust logging level use sc.setLogLevel(newLevel). For SparkR, use setLogLevel(newLevel).\n",
      "23/09/22 02:24:19 WARN NativeCodeLoader: Unable to load native-hadoop library for your platform... using builtin-java classes where applicable\n",
      "23/09/22 02:24:19 WARN Utils: Service 'SparkUI' could not bind on port 4040. Attempting port 4041.\n",
      "Found cached dataset red_pajama-data-1_t-sample (/root/.cache/huggingface/datasets/togethercomputer___red_pajama-data-1_t-sample/plain_text/1.0.0/6ea3bc8ec2e84ec6d2df1930942e9028ace8c5b9d9143823cf911c50bbd92039)\n"
     ]
    },
    {
     "data": {
      "application/vnd.jupyter.widget-view+json": {
       "model_id": "bc48224b36104f8a90740ff641ae6c05",
       "version_major": 2,
       "version_minor": 0
      },
      "text/plain": [
       "  0%|          | 0/1 [00:00<?, ?it/s]"
      ]
     },
     "metadata": {},
     "output_type": "display_data"
    },
    {
     "name": "stdout",
     "output_type": "stream",
     "text": [
      "Dataset already exists at /root/.cache/dataverse/dataset/huggingface_0213b3219ff7d503.parquet\n"
     ]
    },
    {
     "name": "stderr",
     "output_type": "stream",
     "text": [
      "                                                                                \r"
     ]
    },
    {
     "name": "stdout",
     "output_type": "stream",
     "text": [
      "Downloading and preparing dataset spark/-714991180 to /root/.cache/huggingface/datasets/spark/-714991180/0.0.0...\n"
     ]
    },
    {
     "name": "stderr",
     "output_type": "stream",
     "text": [
      "                                                                                \r"
     ]
    },
    {
     "name": "stdout",
     "output_type": "stream",
     "text": [
      "Dataset spark downloaded and prepared to /root/.cache/huggingface/datasets/spark/-714991180/0.0.0. Subsequent calls will reuse this data.\n"
     ]
    }
   ],
   "source": [
    "# raw -> hf_obj\n",
    "dataset = etl_pipeline.run(ETL_config)"
   ]
  },
  {
   "cell_type": "code",
   "execution_count": 5,
   "metadata": {},
   "outputs": [
    {
     "data": {
      "text/plain": [
       "Dataset({\n",
       "    features: ['id', 'meta', 'name', 'text'],\n",
       "    num_rows: 9150\n",
       "})"
      ]
     },
     "execution_count": 5,
     "metadata": {},
     "output_type": "execute_result"
    }
   ],
   "source": [
    "dataset"
   ]
  },
  {
   "cell_type": "code",
   "execution_count": 6,
   "metadata": {},
   "outputs": [
    {
     "data": {
      "text/plain": [
       "{'id': '178591d058a411eeba67d652e8cce297',\n",
       " 'meta': \"{'title': 'Equal detour point', 'url': 'https://en.wikipedia.org/wiki/Equal%20detour%20point', 'language': 'en', 'timestamp': '20230320'}\",\n",
       " 'name': 'red_pajama',\n",
       " 'text': 'The equal detour point is a triangle center with the Kimberling number X(176). It is characterized by the equal detour property, that is if you travel from any vertex of a triangle  to another by taking a detour through some inner point  then the additional distance travelled is constant. This means the following equation has to hold:\\n\\nThe equal detour point is the only point with the equal detour property if and only if the following inequality holds for the angles  of the triangle :\\n\\nIf the inequality does not hold, then the isoperimetric point possesses the equal detour property as well.\\n\\nThe equal detour point, isoperimetric point, the incenter and the Gergonne point of a triangle are collinear, that is all four points lie on a common line. Furthermore, they form an harmonic range as well (see graphic on the right).\\n\\nThe equal detour point is the center of the inner Soddy circle of a triangle and the additional distance travelled by the detour is equal to the diameter of the inner Soddy Circle.\\n\\nThe barycentric coordinates of the equal detour point are\\n\\nand the trilinear coordinates\\n\\nReferences\\n\\nExternal links \\n\\nisoperimetric and equal detour points – interaktive Illustration auf Geogebratube\\n\\nTriangle centers'}"
      ]
     },
     "execution_count": 6,
     "metadata": {},
     "output_type": "execute_result"
    }
   ],
   "source": [
    "dataset[777]"
   ]
  }
 ],
 "metadata": {
  "kernelspec": {
   "display_name": "llm",
   "language": "python",
   "name": "python3"
  },
  "language_info": {
   "codemirror_mode": {
    "name": "ipython",
    "version": 3
   },
   "file_extension": ".py",
   "mimetype": "text/x-python",
   "name": "python",
   "nbconvert_exporter": "python",
   "pygments_lexer": "ipython3",
   "version": "3.10.11"
  },
  "orig_nbformat": 4
 },
 "nbformat": 4,
 "nbformat_minor": 2
}
